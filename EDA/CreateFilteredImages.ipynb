{
 "cells": [
  {
   "attachments": {},
   "cell_type": "markdown",
   "metadata": {},
   "source": []
  },
  {
   "cell_type": "code",
   "execution_count": 2,
   "metadata": {},
   "outputs": [],
   "source": [
    "import numpy as np\n",
    "import cv2\n",
    "from PIL import Image\n",
    "import os\n"
   ]
  },
  {
   "cell_type": "code",
   "execution_count": 3,
   "metadata": {},
   "outputs": [],
   "source": [
    "\n",
    "def process_images(input_folder, output_folder, process_function):\n",
    "    # Create the output folder if it doesn't exist\n",
    "    os.makedirs(output_folder, exist_ok=True)\n",
    "\n",
    "    # Get the list of subfolders within the input folder\n",
    "    subfolders = next(os.walk(input_folder))[1]\n",
    "\n",
    "    # Iterate over each subfolder\n",
    "    for subfolder in subfolders:\n",
    "        # Create the corresponding subfolder in the output folder\n",
    "        output_subfolder = os.path.join(output_folder, subfolder)\n",
    "        os.makedirs(output_subfolder, exist_ok=True)\n",
    "\n",
    "        # Get the list of image files within the current subfolder\n",
    "        subfolder_path = os.path.join(input_folder, subfolder)\n",
    "        image_files = [f for f in os.listdir(subfolder_path) if os.path.isfile(os.path.join(subfolder_path, f))]\n",
    "\n",
    "        # Process each image and save it to the output subfolder\n",
    "        for image_file in image_files:\n",
    "            image_path = os.path.join(subfolder_path, image_file)\n",
    "\n",
    "            # Apply the processing function to create the new image\n",
    "            processed_image = process_function(image_path)\n",
    "\n",
    "            # Save the processed image to the output subfolder\n",
    "            output_image_path = os.path.join(output_subfolder, image_file)\n",
    "            processed_image.save(output_image_path)\n",
    "\n",
    "    print(\"Image processing and saving completed successfully!\")\n"
   ]
  },
  {
   "cell_type": "code",
   "execution_count": 9,
   "metadata": {},
   "outputs": [],
   "source": [
    "def apply_gabor_filter(image_path):\n",
    "    image = cv2.imread(image_path)\n",
    "    image = cv2.cvtColor(image, cv2.COLOR_BGR2RGB)\n",
    "\n",
    "    ksize = (9, 9)  # Kernel size\n",
    "    sigma = 5.0  # Standard deviation of the Gaussian envelope\n",
    "    theta = np.pi/4  # Orientation of the normal to the parallel stripes of the Gabor function\n",
    "    lmbda = 10.0  # Wavelength of the sinusoidal factor\n",
    "    gamma = 1.0  # Spatial aspect ratio\n",
    "    psi = 0  # Phase offset\n",
    "    gabor_params = cv2.getGaborKernel(ksize, sigma, theta, lmbda, gamma, psi, ktype=cv2.CV_32F)\n",
    "\n",
    "    # Check if the image has color channels\n",
    "    if len(image.shape) < 3:\n",
    "        raise ValueError(\"Input image must have color channels\")\n",
    "\n",
    "    # Split image into color channels\n",
    "    b, g, r = cv2.split(image)\n",
    "\n",
    "    # Apply Gabor filter to each color channel\n",
    "    b_filtered = cv2.filter2D(b, cv2.CV_32F, gabor_params)\n",
    "    g_filtered = cv2.filter2D(g, cv2.CV_32F, gabor_params)\n",
    "    r_filtered = cv2.filter2D(r, cv2.CV_32F, gabor_params)\n",
    "\n",
    "    # Merge filtered color channels\n",
    "    gabor_filtered = cv2.merge((b_filtered, g_filtered, r_filtered))\n",
    "\n",
    "    # Normalize the filtered image for visualization\n",
    "    gabor_filtered = cv2.normalize(gabor_filtered, None, 0, 255, cv2.NORM_MINMAX, cv2.CV_8U)\n",
    "\n",
    "    gabor_filtered = np.array(gabor_filtered)\n",
    "    gabor_filtered = Image.fromarray(gabor_filtered)\n",
    "\n",
    "    return gabor_filtered"
   ]
  },
  {
   "cell_type": "code",
   "execution_count": 5,
   "metadata": {},
   "outputs": [],
   "source": [
    "def laplacian_of_gaussian(image_path, kernel_size=7):\n",
    "    image = cv2.imread(image_path)\n",
    "    image = cv2.cvtColor(image, cv2.COLOR_BGR2RGB)\n",
    "    gray = cv2.cvtColor(image, cv2.COLOR_RGB2GRAY)\n",
    "    blurred = cv2.GaussianBlur(gray, (kernel_size, kernel_size), 0)\n",
    "    laplacian = cv2.Laplacian(blurred, cv2.CV_64F)\n",
    "    laplacian = np.uint8(np.absolute(laplacian))\n",
    "    laplacian = Image.fromarray(laplacian)\n",
    "    return laplacian"
   ]
  },
  {
   "cell_type": "code",
   "execution_count": 6,
   "metadata": {},
   "outputs": [
    {
     "name": "stdout",
     "output_type": "stream",
     "text": [
      "Image processing and saving completed successfully!\n"
     ]
    }
   ],
   "source": [
    "input_folder = \"/home/ceg98/Documents/archive/resized/resized\"\n",
    "output_folder = \"/home/ceg98/Documents/Laplacian\"\n",
    "\n",
    "process_images(input_folder, output_folder, laplacian_of_gaussian)"
   ]
  },
  {
   "cell_type": "code",
   "execution_count": 10,
   "metadata": {},
   "outputs": [
    {
     "name": "stdout",
     "output_type": "stream",
     "text": [
      "Image processing and saving completed successfully!\n"
     ]
    }
   ],
   "source": [
    "input_folder = \"/home/ceg98/Documents/archive/resized/resized\"\n",
    "output_folder = \"/home/ceg98/Documents/Garbor\"\n",
    "\n",
    "process_images(input_folder, output_folder, apply_gabor_filter)"
   ]
  }
 ],
 "metadata": {
  "kernelspec": {
   "display_name": "ML",
   "language": "python",
   "name": "python3"
  },
  "language_info": {
   "codemirror_mode": {
    "name": "ipython",
    "version": 3
   },
   "file_extension": ".py",
   "mimetype": "text/x-python",
   "name": "python",
   "nbconvert_exporter": "python",
   "pygments_lexer": "ipython3",
   "version": "3.10.10"
  },
  "orig_nbformat": 4
 },
 "nbformat": 4,
 "nbformat_minor": 2
}
