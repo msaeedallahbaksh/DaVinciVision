{
 "cells": [
  {
   "cell_type": "code",
   "execution_count": 3,
   "metadata": {},
   "outputs": [],
   "source": [
    "import os\n",
    "import random\n",
    "import shutil\n",
    "\n",
    "# Set the paths for the source and destination folders\n",
    "main_directory = \"/home/ceg98/Documents/sample\"\n",
    "valid_directory = \"/home/ceg98/Documents/valid\"\n",
    "\n",
    "# Create the valid directory if it doesn't exist\n",
    "if not os.path.exists(valid_directory):\n",
    "    os.makedirs(valid_directory)\n",
    "\n",
    "# Iterate over each class directory in the main directory\n",
    "for class_dir in os.listdir(main_directory):\n",
    "    class_path = os.path.join(main_directory, class_dir)\n",
    "\n",
    "    # Create the class directory in the valid directory if it doesn't exist\n",
    "    valid_class_path = os.path.join(valid_directory, class_dir)\n",
    "    if not os.path.exists(valid_class_path):\n",
    "        os.makedirs(valid_class_path)\n",
    "\n",
    "    # Get the list of image files in the class directory\n",
    "    image_files = os.listdir(class_path)\n",
    "\n",
    "    # Calculate the number of images to move\n",
    "    num_images_to_move = int(len(image_files) * 0.2)\n",
    "\n",
    "    # Randomly select the images to move\n",
    "    images_to_move = random.sample(image_files, num_images_to_move)\n",
    "\n",
    "    # Move the selected images to the valid directory\n",
    "    for image_file in images_to_move:\n",
    "        src_path = os.path.join(class_path, image_file)\n",
    "        dst_path = os.path.join(valid_class_path, image_file)\n",
    "        shutil.move(src_path, dst_path)"
   ]
  }
 ],
 "metadata": {
  "kernelspec": {
   "display_name": "ML",
   "language": "python",
   "name": "python3"
  },
  "language_info": {
   "codemirror_mode": {
    "name": "ipython",
    "version": 3
   },
   "file_extension": ".py",
   "mimetype": "text/x-python",
   "name": "python",
   "nbconvert_exporter": "python",
   "pygments_lexer": "ipython3",
   "version": "3.9.16"
  },
  "orig_nbformat": 4
 },
 "nbformat": 4,
 "nbformat_minor": 2
}
