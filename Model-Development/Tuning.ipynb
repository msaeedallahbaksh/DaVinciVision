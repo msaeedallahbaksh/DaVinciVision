{
 "cells": [
  {
   "cell_type": "code",
   "execution_count": 1,
   "metadata": {},
   "outputs": [
    {
     "name": "stderr",
     "output_type": "stream",
     "text": [
      "2023-06-04 15:01:11.554992: I tensorflow/core/platform/cpu_feature_guard.cc:182] This TensorFlow binary is optimized to use available CPU instructions in performance-critical operations.\n",
      "To enable the following instructions: AVX2 FMA, in other operations, rebuild TensorFlow with the appropriate compiler flags.\n",
      "2023-06-04 15:01:12.078817: W tensorflow/compiler/tf2tensorrt/utils/py_utils.cc:38] TF-TRT Warning: Could not find TensorRT\n"
     ]
    }
   ],
   "source": [
    "import ModelTrainFilters as ModelTrain\n",
    "import pickle\n",
    "from time import sleep\n",
    "\n",
    "histories = list()\n",
    "\n",
    "import os\n",
    "os.environ['TF_CPP_MIN_LOG_LEVEL'] = '3'\n"
   ]
  },
  {
   "attachments": {},
   "cell_type": "markdown",
   "metadata": {},
   "source": [
    "TODO\n",
    "* Make 50 class model and 11 class, class parameter. and fix code to transform parameter [Done]\n",
    "* Test basicCNN [Completed]\n",
    "* Turn on and Off Transfer Learning with ImageNet for all 3.[DidNotDo] Just did for ResNet50. \n",
    "* Turn on and Off normalization [Done]\n",
    "* Turn on and Off Dropout(0.1) [Done]\n",
    "* Make so we can utilize image filters and turn them on and off [Done]\n",
    "* Import 5 other architecutres [Done]\n",
    "* Test other architectures [Done]\n",
    "* Create New Generator Function [Done]\n",
    "* Test and make sure you have comparable results with the generator function [Done]\n",
    "* Train & Valid Split [Done]\n",
    "* Figure out Way to save weights of a model. [Done]\n",
    "* Figure out way to incorporate class weightings [Done]\n",
    "\n",
    "* Set Up Notebook & Testing[Done]\n",
    "* Initial Runs with All Architecutres - Base Results [10ish Models 50 epochs] - 11 classes [Working-Running]\n",
    "\n",
    "* Set Up Notebook & Testing[Working]\n",
    "* Tuning Best Architecutres - 11 classes - Optimal Results\n",
    "\n",
    "* Set Up Notebook & Testing[Working]\n",
    "* Initial Runs with All Architecutres - Base Results - 50 classes\n",
    "\n",
    "* Set Up Notebook & Testing[Working]\n",
    "* Tuning Best Architecutres - Optimal Results - 50 classes \n",
    "\n",
    "* Clean Up Class & Codebase\n",
    "* Creating Working Tutorial"
   ]
  },
  {
   "attachments": {},
   "cell_type": "markdown",
   "metadata": {},
   "source": [
    "## ResNet-ImageNetTuning"
   ]
  },
  {
   "cell_type": "code",
   "execution_count": 2,
   "metadata": {},
   "outputs": [],
   "source": [
    "# iterations = 0\n",
    "# for lr in [.001, .0001, .00001]:\n",
    "#     for im_size in [250, 500]:\n",
    "#         for batch_size in [16, 32]:\n",
    "#             tm = ModelTrain.TrainModel(architecture=\"ResNet50\", \n",
    "#                                        batch_size=batch_size, \n",
    "#                                        image_size=im_size, \n",
    "#                                        validation_split=.2, \n",
    "#                                        learning_rate=lr, \n",
    "#                                        seed_n=1, \n",
    "#                                        verbose=0) \n",
    "#             history = tm.train()\n",
    "#             histories.append(history)\n",
    "#             # File path for the pickle file\n",
    "#             file_path = \"histories.pkl\"\n",
    "\n",
    "#             # Save the list as a pickle file\n",
    "#             with open(file_path, \"wb\") as pickle_file:\n",
    "#                 pickle.dump(histories, pickle_file)\n",
    "#             # aves this as a pickle, each time to control for unintenioned kernel crashes.\n",
    "#             iterations += 1\n",
    "            \n",
    "#             # Prevent GPU from overheating.\n",
    "#             if iterations == 4:\n",
    "#                 iterations = 0\n",
    "#                 sleep(60*5)"
   ]
  },
  {
   "attachments": {},
   "cell_type": "markdown",
   "metadata": {},
   "source": []
  },
  {
   "attachments": {},
   "cell_type": "markdown",
   "metadata": {},
   "source": [
    "# Testing Compatible Architecutres and Pathing."
   ]
  },
  {
   "cell_type": "code",
   "execution_count": 3,
   "metadata": {},
   "outputs": [
    {
     "name": "stderr",
     "output_type": "stream",
     "text": [
      "/home/ceg98/Documents/DaVinciVision/Model-Development/FilterGenerator.py:14: RuntimeWarning: divide by zero encountered in divide\n",
      "  class_weights = total_samples / (len(class_counts) * class_counts)\n",
      "/home/ceg98/miniconda3/envs/ML/lib/python3.9/site-packages/keras/applications/densenet.py:223: UserWarning: This model usually expects 1 or 3 input channels. However, it was passed an input_shape with 4 input channels.\n",
      "  input_shape = imagenet_utils.obtain_input_shape(\n",
      "2023-06-04 15:01:13.089185: I tensorflow/compiler/xla/stream_executor/cuda/cuda_gpu_executor.cc:996] successful NUMA node read from SysFS had negative value (-1), but there must be at least one NUMA node, so returning NUMA node zero. See more at https://github.com/torvalds/linux/blob/v6.0/Documentation/ABI/testing/sysfs-bus-pci#L344-L355\n",
      "2023-06-04 15:01:13.105378: I tensorflow/compiler/xla/stream_executor/cuda/cuda_gpu_executor.cc:996] successful NUMA node read from SysFS had negative value (-1), but there must be at least one NUMA node, so returning NUMA node zero. See more at https://github.com/torvalds/linux/blob/v6.0/Documentation/ABI/testing/sysfs-bus-pci#L344-L355\n",
      "2023-06-04 15:01:13.105510: I tensorflow/compiler/xla/stream_executor/cuda/cuda_gpu_executor.cc:996] successful NUMA node read from SysFS had negative value (-1), but there must be at least one NUMA node, so returning NUMA node zero. See more at https://github.com/torvalds/linux/blob/v6.0/Documentation/ABI/testing/sysfs-bus-pci#L344-L355\n",
      "2023-06-04 15:01:13.106345: I tensorflow/compiler/xla/stream_executor/cuda/cuda_gpu_executor.cc:996] successful NUMA node read from SysFS had negative value (-1), but there must be at least one NUMA node, so returning NUMA node zero. See more at https://github.com/torvalds/linux/blob/v6.0/Documentation/ABI/testing/sysfs-bus-pci#L344-L355\n",
      "2023-06-04 15:01:13.106447: I tensorflow/compiler/xla/stream_executor/cuda/cuda_gpu_executor.cc:996] successful NUMA node read from SysFS had negative value (-1), but there must be at least one NUMA node, so returning NUMA node zero. See more at https://github.com/torvalds/linux/blob/v6.0/Documentation/ABI/testing/sysfs-bus-pci#L344-L355\n",
      "2023-06-04 15:01:13.106537: I tensorflow/compiler/xla/stream_executor/cuda/cuda_gpu_executor.cc:996] successful NUMA node read from SysFS had negative value (-1), but there must be at least one NUMA node, so returning NUMA node zero. See more at https://github.com/torvalds/linux/blob/v6.0/Documentation/ABI/testing/sysfs-bus-pci#L344-L355\n",
      "2023-06-04 15:01:13.535336: I tensorflow/compiler/xla/stream_executor/cuda/cuda_gpu_executor.cc:996] successful NUMA node read from SysFS had negative value (-1), but there must be at least one NUMA node, so returning NUMA node zero. See more at https://github.com/torvalds/linux/blob/v6.0/Documentation/ABI/testing/sysfs-bus-pci#L344-L355\n",
      "2023-06-04 15:01:13.535480: I tensorflow/compiler/xla/stream_executor/cuda/cuda_gpu_executor.cc:996] successful NUMA node read from SysFS had negative value (-1), but there must be at least one NUMA node, so returning NUMA node zero. See more at https://github.com/torvalds/linux/blob/v6.0/Documentation/ABI/testing/sysfs-bus-pci#L344-L355\n",
      "2023-06-04 15:01:13.535578: I tensorflow/compiler/xla/stream_executor/cuda/cuda_gpu_executor.cc:996] successful NUMA node read from SysFS had negative value (-1), but there must be at least one NUMA node, so returning NUMA node zero. See more at https://github.com/torvalds/linux/blob/v6.0/Documentation/ABI/testing/sysfs-bus-pci#L344-L355\n",
      "2023-06-04 15:01:13.535647: I tensorflow/core/common_runtime/gpu/gpu_device.cc:1635] Created device /job:localhost/replica:0/task:0/device:GPU:0 with 9472 MB memory:  -> device: 0, name: NVIDIA GeForce RTX 3080 Ti, pci bus id: 0000:01:00.0, compute capability: 8.6\n",
      "WARNING:absl:`lr` is deprecated in Keras optimizer, please use `learning_rate` or use the legacy optimizer, e.g.,tf.keras.optimizers.legacy.Adam.\n"
     ]
    },
    {
     "name": "stdout",
     "output_type": "stream",
     "text": [
      "Epoch 1/10\n"
     ]
    },
    {
     "name": "stderr",
     "output_type": "stream",
     "text": [
      "2023-06-04 15:01:16.556309: I tensorflow/core/common_runtime/executor.cc:1197] [/device:CPU:0] (DEBUG INFO) Executor start aborting (this does not indicate an error and you can ignore this message): INVALID_ARGUMENT: You must feed a value for placeholder tensor 'Placeholder/_0' with dtype int32\n",
      "\t [[{{node Placeholder/_0}}]]\n",
      "2023-06-04 15:01:45.899276: I tensorflow/compiler/xla/stream_executor/cuda/cuda_dnn.cc:424] Loaded cuDNN version 8600\n",
      "2023-06-04 15:01:49.096185: I tensorflow/compiler/xla/stream_executor/cuda/cuda_blas.cc:637] TensorFloat-32 will be used for the matrix multiplication. This will only be logged once.\n",
      "2023-06-04 15:01:49.101837: I tensorflow/compiler/xla/service/service.cc:169] XLA service 0x7f903712ddf0 initialized for platform CUDA (this does not guarantee that XLA will be used). Devices:\n",
      "2023-06-04 15:01:49.101850: I tensorflow/compiler/xla/service/service.cc:177]   StreamExecutor device (0): NVIDIA GeForce RTX 3080 Ti, Compute Capability 8.6\n",
      "2023-06-04 15:01:49.129567: I tensorflow/compiler/mlir/tensorflow/utils/dump_mlir_util.cc:269] disabling MLIR crash reproducer, set env var `MLIR_CRASH_REPRODUCER_DIRECTORY` to enable.\n",
      "2023-06-04 15:01:49.378280: I ./tensorflow/compiler/jit/device_compiler.h:180] Compiled cluster using XLA!  This line is logged at most once for the lifetime of the process.\n"
     ]
    },
    {
     "name": "stdout",
     "output_type": "stream",
     "text": [
      "99/99 [==============================] - ETA: 0s - loss: 2.0010 - accuracy: 0.3138"
     ]
    },
    {
     "name": "stderr",
     "output_type": "stream",
     "text": [
      "2023-06-04 15:03:01.788605: I tensorflow/core/common_runtime/executor.cc:1197] [/device:CPU:0] (DEBUG INFO) Executor start aborting (this does not indicate an error and you can ignore this message): INVALID_ARGUMENT: You must feed a value for placeholder tensor 'Placeholder/_0' with dtype int32\n",
      "\t [[{{node Placeholder/_0}}]]\n"
     ]
    },
    {
     "name": "stdout",
     "output_type": "stream",
     "text": [
      "99/99 [==============================] - 111s 291ms/step - loss: 2.0010 - accuracy: 0.3138 - val_loss: 2346.8162 - val_accuracy: 0.0820\n",
      "Epoch 2/10\n",
      "99/99 [==============================] - 27s 271ms/step - loss: 1.7222 - accuracy: 0.3958 - val_loss: 32.3482 - val_accuracy: 0.1133\n",
      "Epoch 3/10\n",
      "99/99 [==============================] - 27s 274ms/step - loss: 1.6438 - accuracy: 0.4040 - val_loss: 2.8257 - val_accuracy: 0.3021\n",
      "Epoch 4/10\n",
      "99/99 [==============================] - 27s 276ms/step - loss: 1.6048 - accuracy: 0.4217 - val_loss: 2.6371 - val_accuracy: 0.1706\n",
      "Epoch 5/10\n",
      "99/99 [==============================] - 27s 274ms/step - loss: 1.5463 - accuracy: 0.4504 - val_loss: 3.2449 - val_accuracy: 0.2786\n",
      "Epoch 6/10\n",
      "99/99 [==============================] - 26s 263ms/step - loss: 1.5117 - accuracy: 0.4710 - val_loss: 2.9683 - val_accuracy: 0.2786\n",
      "Epoch 7/10\n",
      "99/99 [==============================] - 26s 261ms/step - loss: 1.4777 - accuracy: 0.4760 - val_loss: 7.8507 - val_accuracy: 0.0599\n",
      "Epoch 8/10\n",
      "99/99 [==============================] - 26s 264ms/step - loss: 1.4392 - accuracy: 0.4934 - val_loss: 2.2070 - val_accuracy: 0.3320\n",
      "Epoch 9/10\n",
      "99/99 [==============================] - 27s 269ms/step - loss: 1.3712 - accuracy: 0.5098 - val_loss: 2.1926 - val_accuracy: 0.2812\n",
      "Epoch 10/10\n",
      "99/99 [==============================] - 27s 268ms/step - loss: 1.3619 - accuracy: 0.5227 - val_loss: 10.2084 - val_accuracy: 0.1706\n"
     ]
    },
    {
     "name": "stderr",
     "output_type": "stream",
     "text": [
      "WARNING:absl:`lr` is deprecated in Keras optimizer, please use `learning_rate` or use the legacy optimizer, e.g.,tf.keras.optimizers.legacy.Adam.\n"
     ]
    },
    {
     "name": "stdout",
     "output_type": "stream",
     "text": [
      "dict_keys(['loss', 'accuracy', 'val_loss', 'val_accuracy'])\n"
     ]
    },
    {
     "name": "stderr",
     "output_type": "stream",
     "text": [
      "/home/ceg98/Documents/DaVinciVision/Model-Development/ModelTrainFilters.py:378: UserWarning: `Model.fit_generator` is deprecated and will be removed in a future version. Please use `Model.fit`, which supports generators.\n",
      "  self.full_history = self.model.fit_generator(generator=self.train_generator,\n"
     ]
    },
    {
     "name": "stdout",
     "output_type": "stream",
     "text": [
      "Epoch 1/50\n"
     ]
    },
    {
     "name": "stderr",
     "output_type": "stream",
     "text": [
      "2023-06-04 15:07:09.003801: I tensorflow/core/common_runtime/executor.cc:1197] [/device:CPU:0] (DEBUG INFO) Executor start aborting (this does not indicate an error and you can ignore this message): INVALID_ARGUMENT: You must feed a value for placeholder tensor 'Placeholder/_3' with dtype float and shape [11]\n",
      "\t [[{{node Placeholder/_3}}]]\n"
     ]
    },
    {
     "name": "stdout",
     "output_type": "stream",
     "text": [
      "99/99 [==============================] - ETA: 0s - loss: 1.4594 - accuracy: 0.4498"
     ]
    },
    {
     "name": "stderr",
     "output_type": "stream",
     "text": [
      "2023-06-04 15:08:34.238089: I tensorflow/core/common_runtime/executor.cc:1197] [/device:CPU:0] (DEBUG INFO) Executor start aborting (this does not indicate an error and you can ignore this message): INVALID_ARGUMENT: You must feed a value for placeholder tensor 'Placeholder/_0' with dtype int32\n",
      "\t [[{{node Placeholder/_0}}]]\n"
     ]
    },
    {
     "name": "stdout",
     "output_type": "stream",
     "text": [
      "99/99 [==============================] - 91s 227ms/step - loss: 1.4594 - accuracy: 0.4498 - val_loss: 4.4296 - val_accuracy: 0.2474 - lr: 0.0010\n",
      "Epoch 2/50\n",
      "99/99 [==============================] - 23s 218ms/step - loss: 1.3524 - accuracy: 0.4678 - val_loss: 3.5525 - val_accuracy: 0.1628 - lr: 0.0010\n",
      "Epoch 3/50\n",
      "99/99 [==============================] - 27s 254ms/step - loss: 1.2887 - accuracy: 0.4833 - val_loss: 3.3485 - val_accuracy: 0.2005 - lr: 0.0010\n",
      "Epoch 4/50\n",
      "99/99 [==============================] - 23s 217ms/step - loss: 1.2344 - accuracy: 0.5098 - val_loss: 3.2110 - val_accuracy: 0.2344 - lr: 0.0010\n",
      "Epoch 5/50\n",
      "99/99 [==============================] - 22s 207ms/step - loss: 1.2076 - accuracy: 0.5152 - val_loss: 2.9228 - val_accuracy: 0.2487 - lr: 0.0010\n",
      "Epoch 6/50\n",
      "99/99 [==============================] - 26s 244ms/step - loss: 1.1947 - accuracy: 0.5284 - val_loss: 3.2029 - val_accuracy: 0.2604 - lr: 0.0010\n",
      "Epoch 7/50\n",
      "99/99 [==============================] - 23s 218ms/step - loss: 1.1597 - accuracy: 0.5499 - val_loss: 3.5773 - val_accuracy: 0.2435 - lr: 0.0010\n",
      "Epoch 8/50\n",
      "99/99 [==============================] - ETA: 0s - loss: 1.1530 - accuracy: 0.5360\n",
      "Epoch 8: ReduceLROnPlateau reducing learning rate to 0.00010000000474974513.\n",
      "99/99 [==============================] - 27s 255ms/step - loss: 1.1530 - accuracy: 0.5360 - val_loss: 3.1004 - val_accuracy: 0.2539 - lr: 0.0010\n",
      "Epoch 9/50\n",
      "99/99 [==============================] - 23s 216ms/step - loss: 0.9890 - accuracy: 0.5934 - val_loss: 3.2180 - val_accuracy: 0.2891 - lr: 1.0000e-04\n",
      "Epoch 10/50\n",
      "99/99 [==============================] - 23s 213ms/step - loss: 0.9251 - accuracy: 0.6259 - val_loss: 3.6305 - val_accuracy: 0.2708 - lr: 1.0000e-04\n",
      "Epoch 11/50\n",
      "99/99 [==============================] - ETA: 0s - loss: 0.8908 - accuracy: 0.6398\n",
      "Epoch 11: ReduceLROnPlateau reducing learning rate to 1.0000000474974514e-05.\n",
      "99/99 [==============================] - 23s 219ms/step - loss: 0.8908 - accuracy: 0.6398 - val_loss: 3.9659 - val_accuracy: 0.2565 - lr: 1.0000e-04\n",
      "Epoch 12/50\n",
      "99/99 [==============================] - 23s 218ms/step - loss: 0.8533 - accuracy: 0.6528 - val_loss: 4.0986 - val_accuracy: 0.2591 - lr: 1.0000e-05\n",
      "Epoch 13/50\n",
      "99/99 [==============================] - 24s 227ms/step - loss: 0.8401 - accuracy: 0.6591 - val_loss: 4.1921 - val_accuracy: 0.2591 - lr: 1.0000e-05\n",
      "Epoch 14/50\n",
      "99/99 [==============================] - ETA: 0s - loss: 0.8393 - accuracy: 0.6604\n",
      "Epoch 14: ReduceLROnPlateau reducing learning rate to 1.0000000656873453e-06.\n",
      "99/99 [==============================] - 23s 215ms/step - loss: 0.8393 - accuracy: 0.6604 - val_loss: 4.2696 - val_accuracy: 0.2539 - lr: 1.0000e-05\n",
      "Epoch 15/50\n",
      "99/99 [==============================] - 22s 209ms/step - loss: 0.8308 - accuracy: 0.6619 - val_loss: 4.3089 - val_accuracy: 0.2552 - lr: 1.0000e-06\n",
      "Epoch 16/50\n",
      "99/99 [==============================] - 23s 211ms/step - loss: 0.8428 - accuracy: 0.6525 - val_loss: 4.3354 - val_accuracy: 0.2526 - lr: 1.0000e-06\n",
      "Epoch 17/50\n",
      "99/99 [==============================] - ETA: 0s - loss: 0.8366 - accuracy: 0.6566\n",
      "Epoch 17: ReduceLROnPlateau reducing learning rate to 1.0000001111620805e-07.\n",
      "99/99 [==============================] - 26s 242ms/step - loss: 0.8366 - accuracy: 0.6566 - val_loss: 4.3457 - val_accuracy: 0.2539 - lr: 1.0000e-06\n",
      "Epoch 18/50\n",
      "99/99 [==============================] - 23s 217ms/step - loss: 0.8377 - accuracy: 0.6575 - val_loss: 4.3328 - val_accuracy: 0.2565 - lr: 1.0000e-07\n",
      "Epoch 19/50\n",
      "99/99 [==============================] - 23s 210ms/step - loss: 0.8338 - accuracy: 0.6616 - val_loss: 4.3424 - val_accuracy: 0.2539 - lr: 1.0000e-07\n",
      "Epoch 20/50\n",
      "99/99 [==============================] - ETA: 0s - loss: 0.8295 - accuracy: 0.6648\n",
      "Epoch 20: ReduceLROnPlateau reducing learning rate to 1.000000082740371e-08.\n",
      "99/99 [==============================] - 23s 214ms/step - loss: 0.8295 - accuracy: 0.6648 - val_loss: 4.3309 - val_accuracy: 0.2539 - lr: 1.0000e-07\n",
      "Epoch 21/50\n",
      "99/99 [==============================] - 24s 226ms/step - loss: 0.8424 - accuracy: 0.6575 - val_loss: 4.3303 - val_accuracy: 0.2539 - lr: 1.0000e-08\n",
      "Epoch 22/50\n",
      "99/99 [==============================] - 27s 257ms/step - loss: 0.8340 - accuracy: 0.6600 - val_loss: 4.3403 - val_accuracy: 0.2539 - lr: 1.0000e-08\n",
      "Epoch 23/50\n",
      "99/99 [==============================] - ETA: 0s - loss: 0.8309 - accuracy: 0.6645\n",
      "Epoch 23: ReduceLROnPlateau reducing learning rate to 1.000000082740371e-09.\n",
      "99/99 [==============================] - 27s 255ms/step - loss: 0.8309 - accuracy: 0.6645 - val_loss: 4.3383 - val_accuracy: 0.2539 - lr: 1.0000e-08\n",
      "Epoch 24/50\n",
      "99/99 [==============================] - 24s 225ms/step - loss: 0.8294 - accuracy: 0.6622 - val_loss: 4.3400 - val_accuracy: 0.2539 - lr: 1.0000e-09\n",
      "Epoch 25/50\n",
      "99/99 [==============================] - ETA: 0s - loss: 0.8287 - accuracy: 0.6616Restoring model weights from the end of the best epoch: 5.\n",
      "99/99 [==============================] - 24s 228ms/step - loss: 0.8287 - accuracy: 0.6616 - val_loss: 4.3458 - val_accuracy: 0.2539 - lr: 1.0000e-09\n",
      "Epoch 25: early stopping\n"
     ]
    }
   ],
   "source": [
    "tm = ModelTrain.TrainModel(architecture=\"DenseNet\", \n",
    "                           batch_size=32, \n",
    "                           image_size=225, \n",
    "                           validation_split=.2, \n",
    "                           learning_rate=0.0001, \n",
    "                           seed_n=1, \n",
    "                           verbose=1, \n",
    "                           best_classes=True, \n",
    "                           normalization=True,\n",
    "                           dropout=False,\n",
    "                           dropout_rate=0.1,\n",
    "                           garbor=False,\n",
    "                           laplacian=True,\n",
    "                           custom_gen=True,\n",
    "                           augments=True,\n",
    "                           short_epochs=10,\n",
    "                           full_epoch=50,\n",
    "                           full_cutoff=.25\n",
    "                           weights_dir='base-11',\n",
    "                           model_name = arch,\n",
    "                           ) # Initializing Class\n",
    "history = tm.train()\n",
    "histories.append(history)"
   ]
  },
  {
   "cell_type": "code",
   "execution_count": 6,
   "metadata": {},
   "outputs": [],
   "source": [
    "\n"
   ]
  },
  {
   "cell_type": "code",
   "execution_count": null,
   "metadata": {},
   "outputs": [],
   "source": []
  }
 ],
 "metadata": {
  "kernelspec": {
   "display_name": "ML",
   "language": "python",
   "name": "python3"
  },
  "language_info": {
   "codemirror_mode": {
    "name": "ipython",
    "version": 3
   },
   "file_extension": ".py",
   "mimetype": "text/x-python",
   "name": "python",
   "nbconvert_exporter": "python",
   "pygments_lexer": "ipython3",
   "version": "3.10.10"
  },
  "orig_nbformat": 4
 },
 "nbformat": 4,
 "nbformat_minor": 2
}
