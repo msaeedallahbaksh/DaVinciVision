{
 "cells": [
  {
   "cell_type": "code",
   "execution_count": 1,
   "metadata": {},
   "outputs": [
    {
     "name": "stderr",
     "output_type": "stream",
     "text": [
      "2023-06-05 23:40:59.270346: I tensorflow/core/platform/cpu_feature_guard.cc:182] This TensorFlow binary is optimized to use available CPU instructions in performance-critical operations.\n",
      "To enable the following instructions: AVX2 FMA, in other operations, rebuild TensorFlow with the appropriate compiler flags.\n",
      "2023-06-05 23:40:59.749311: W tensorflow/compiler/tf2tensorrt/utils/py_utils.cc:38] TF-TRT Warning: Could not find TensorRT\n"
     ]
    }
   ],
   "source": [
    "import ModelTrainFilters as ModelTrain\n",
    "import pickle\n",
    "from time import sleep\n",
    "\n",
    "histories = list()\n",
    "\n",
    "import os\n",
    "os.environ['TF_CPP_MIN_LOG_LEVEL'] = '3'\n",
    "\n",
    "run_type = 'super-deep-11'\n",
    "# File path for the pickle file\n",
    "file_path = \"/home/ceg98/Documents/DaVinciVision/Model-Development/Results/\" + run_type + \".pkl\"\n",
    "i = 2       \n",
    "\n",
    "import tensorflow as tf\n",
    "from keras import backend as K\n",
    "gpu_util = .9"
   ]
  },
  {
   "cell_type": "code",
   "execution_count": 2,
   "metadata": {},
   "outputs": [
    {
     "name": "stderr",
     "output_type": "stream",
     "text": [
      "2023-06-05 23:41:00.481262: I tensorflow/compiler/xla/stream_executor/cuda/cuda_gpu_executor.cc:996] successful NUMA node read from SysFS had negative value (-1), but there must be at least one NUMA node, so returning NUMA node zero. See more at https://github.com/torvalds/linux/blob/v6.0/Documentation/ABI/testing/sysfs-bus-pci#L344-L355\n",
      "2023-06-05 23:41:00.497528: I tensorflow/compiler/xla/stream_executor/cuda/cuda_gpu_executor.cc:996] successful NUMA node read from SysFS had negative value (-1), but there must be at least one NUMA node, so returning NUMA node zero. See more at https://github.com/torvalds/linux/blob/v6.0/Documentation/ABI/testing/sysfs-bus-pci#L344-L355\n",
      "2023-06-05 23:41:00.497670: I tensorflow/compiler/xla/stream_executor/cuda/cuda_gpu_executor.cc:996] successful NUMA node read from SysFS had negative value (-1), but there must be at least one NUMA node, so returning NUMA node zero. See more at https://github.com/torvalds/linux/blob/v6.0/Documentation/ABI/testing/sysfs-bus-pci#L344-L355\n",
      "2023-06-05 23:41:00.889214: I tensorflow/compiler/xla/stream_executor/cuda/cuda_gpu_executor.cc:996] successful NUMA node read from SysFS had negative value (-1), but there must be at least one NUMA node, so returning NUMA node zero. See more at https://github.com/torvalds/linux/blob/v6.0/Documentation/ABI/testing/sysfs-bus-pci#L344-L355\n",
      "2023-06-05 23:41:00.889437: I tensorflow/compiler/xla/stream_executor/cuda/cuda_gpu_executor.cc:996] successful NUMA node read from SysFS had negative value (-1), but there must be at least one NUMA node, so returning NUMA node zero. See more at https://github.com/torvalds/linux/blob/v6.0/Documentation/ABI/testing/sysfs-bus-pci#L344-L355\n",
      "2023-06-05 23:41:00.889606: I tensorflow/compiler/xla/stream_executor/cuda/cuda_gpu_executor.cc:996] successful NUMA node read from SysFS had negative value (-1), but there must be at least one NUMA node, so returning NUMA node zero. See more at https://github.com/torvalds/linux/blob/v6.0/Documentation/ABI/testing/sysfs-bus-pci#L344-L355\n",
      "2023-06-05 23:41:00.889674: I tensorflow/core/common_runtime/gpu/gpu_device.cc:1635] Created device /job:localhost/replica:0/task:0/device:GPU:0 with 10838 MB memory:  -> device: 0, name: NVIDIA GeForce RTX 3080 Ti, pci bus id: 0000:01:00.0, compute capability: 8.6\n"
     ]
    }
   ],
   "source": [
    "config = tf.compat.v1.ConfigProto()\n",
    "config.gpu_options.per_process_gpu_memory_fraction = gpu_util  \n",
    "config.gpu_options.allow_growth = True  # Enable dynamic GPU memory allocation\n",
    "sess = tf.compat.v1.Session(config=config)\n",
    "K.set_session(sess)"
   ]
  },
  {
   "attachments": {},
   "cell_type": "markdown",
   "metadata": {},
   "source": [
    "## Testing Architectures"
   ]
  },
  {
   "cell_type": "code",
   "execution_count": 3,
   "metadata": {},
   "outputs": [],
   "source": [
    "if not os.path.exists(file_path):\n",
    "    # Save the empty list to a pickle file\n",
    "    with open(file_path, \"wb\") as pickle_file:\n",
    "        pickle.dump([], pickle_file)"
   ]
  },
  {
   "cell_type": "code",
   "execution_count": 4,
   "metadata": {},
   "outputs": [],
   "source": [
    "# architectures = ['ResNet50', \"BasicCNN\", \"AlexNet\", \"VGG\", \"DenseNet\", \"GoogLeNet\"]"
   ]
  },
  {
   "cell_type": "code",
   "execution_count": null,
   "metadata": {},
   "outputs": [],
   "source": [
    "lrs = [.0003, .00003]\n",
    "ARCH = \"ResNet50\" # CONSTANT\n",
    "activations = ['tanh', 'relu', 'sigmoid']\n",
    "pools = ['avg', 'max', None]\n",
    "\n",
    "\n",
    "# ResNet 50; Differing learning rates, image sizes, data augmentations, \n",
    "\n",
    "\n",
    "for lr in lrs:\n",
    "    for acti in activations:\n",
    "        for pool in pools:\n",
    "            # Iterate with learning-rate, custom-gen(laplacian or garbor), weights_dir, dropout, # Do with best arch first, then with next 2,  \n",
    "            tm = ModelTrain.TrainModel(architecture=ARCH, \n",
    "                                    batch_size=32, \n",
    "                                    image_size=224, \n",
    "                                    validation_split=.2, \n",
    "                                    learning_rate=lr, \n",
    "                                    seed_n=1, \n",
    "                                    verbose=1, \n",
    "                                    best_classes=True, \n",
    "                                    normalization=True,\n",
    "                                    dropout=True,\n",
    "                                    dropout_rate=0.1,\n",
    "                                    garbor=False,\n",
    "                                    laplacian=False,\n",
    "                                    custom_gen=False,\n",
    "                                    augments=False,\n",
    "                                    short_epochs=10,\n",
    "                                    full_epoch=50,\n",
    "                                    full_cutoff=.45,\n",
    "                                    weights_dir=run_type,\n",
    "                                    model_name = ARCH+'-'+str(i),\n",
    "                                    acti = acti,\n",
    "                                    pool = pool) # Initializing Class\n",
    "\n",
    "\n",
    "\n",
    "\n",
    "            history = tm.train()\n",
    "\n",
    "            with open(file_path, \"rb\") as pickle_file:\n",
    "                histories = pickle.load(pickle_file)\n",
    "\n",
    "            histories.append(history)\n",
    "\n",
    "            # Save the list as a pickle file\n",
    "            with open(file_path, \"wb\") as pickle_file:\n",
    "                pickle.dump(histories, pickle_file)\n",
    "            \n",
    "            i += 1\n",
    "            if (i % 1) == 0:\n",
    "                sleep(3*60)"
   ]
  },
  {
   "cell_type": "code",
   "execution_count": 10,
   "metadata": {},
   "outputs": [],
   "source": [
    "import pickle\n",
    "with open(\"/home/ceg98/Documents/DaVinciVision/Model-Development/Results/super-deep-11.pkl\", \"rb\") as pickle_file:\n",
    "    histories = pickle.load(pickle_file)"
   ]
  },
  {
   "cell_type": "code",
   "execution_count": 11,
   "metadata": {},
   "outputs": [],
   "source": [
    "import pandas as pd\n",
    "df = pd.DataFrame(histories)"
   ]
  },
  {
   "cell_type": "code",
   "execution_count": 12,
   "metadata": {},
   "outputs": [
    {
     "data": {
      "text/plain": [
       "Index(['loss', 'accuracy', 'val_loss', 'val_accuracy', 'last-accuracy',\n",
       "       'last-loss', 'last-val_loss', 'last-val_accuracy', 'arch', 'batch-size',\n",
       "       'image-size', 'learning-rate', 'seed', 'valid_split', 'dropout',\n",
       "       'dropout_rate', 'augments', 'short_epoch', 'full_epoch', 'custom_gen',\n",
       "       'model_name', 'garbor', 'laplacian', 'normalization', 'best_classes',\n",
       "       'features', 'activation', 'pooling'],\n",
       "      dtype='object')"
      ]
     },
     "execution_count": 12,
     "metadata": {},
     "output_type": "execute_result"
    }
   ],
   "source": [
    "df.columns"
   ]
  },
  {
   "cell_type": "code",
   "execution_count": 13,
   "metadata": {},
   "outputs": [
    {
     "data": {
      "text/html": [
       "<div>\n",
       "<style scoped>\n",
       "    .dataframe tbody tr th:only-of-type {\n",
       "        vertical-align: middle;\n",
       "    }\n",
       "\n",
       "    .dataframe tbody tr th {\n",
       "        vertical-align: top;\n",
       "    }\n",
       "\n",
       "    .dataframe thead th {\n",
       "        text-align: right;\n",
       "    }\n",
       "</style>\n",
       "<table border=\"1\" class=\"dataframe\">\n",
       "  <thead>\n",
       "    <tr style=\"text-align: right;\">\n",
       "      <th></th>\n",
       "      <th>learning-rate</th>\n",
       "      <th>activation</th>\n",
       "      <th>pooling</th>\n",
       "      <th>last-val_accuracy</th>\n",
       "      <th>last-accuracy</th>\n",
       "      <th>model_name</th>\n",
       "    </tr>\n",
       "  </thead>\n",
       "  <tbody>\n",
       "    <tr>\n",
       "      <th>1</th>\n",
       "      <td>0.0003</td>\n",
       "      <td>tanh</td>\n",
       "      <td>max</td>\n",
       "      <td>0.882812</td>\n",
       "      <td>0.997617</td>\n",
       "      <td>ResNet50-3</td>\n",
       "    </tr>\n",
       "    <tr>\n",
       "      <th>0</th>\n",
       "      <td>0.0003</td>\n",
       "      <td>tanh</td>\n",
       "      <td>avg</td>\n",
       "      <td>0.875000</td>\n",
       "      <td>0.998014</td>\n",
       "      <td>ResNet50-2</td>\n",
       "    </tr>\n",
       "    <tr>\n",
       "      <th>3</th>\n",
       "      <td>0.0003</td>\n",
       "      <td>relu</td>\n",
       "      <td>avg</td>\n",
       "      <td>0.875000</td>\n",
       "      <td>0.998411</td>\n",
       "      <td>ResNet50-5</td>\n",
       "    </tr>\n",
       "    <tr>\n",
       "      <th>2</th>\n",
       "      <td>0.0003</td>\n",
       "      <td>tanh</td>\n",
       "      <td>None</td>\n",
       "      <td>0.851562</td>\n",
       "      <td>0.997617</td>\n",
       "      <td>ResNet50-4</td>\n",
       "    </tr>\n",
       "    <tr>\n",
       "      <th>4</th>\n",
       "      <td>0.0003</td>\n",
       "      <td>relu</td>\n",
       "      <td>max</td>\n",
       "      <td>0.851562</td>\n",
       "      <td>0.998809</td>\n",
       "      <td>ResNet50-6</td>\n",
       "    </tr>\n",
       "    <tr>\n",
       "      <th>7</th>\n",
       "      <td>0.0003</td>\n",
       "      <td>sigmoid</td>\n",
       "      <td>max</td>\n",
       "      <td>0.851562</td>\n",
       "      <td>0.998014</td>\n",
       "      <td>ResNet50-9</td>\n",
       "    </tr>\n",
       "    <tr>\n",
       "      <th>5</th>\n",
       "      <td>0.0003</td>\n",
       "      <td>relu</td>\n",
       "      <td>None</td>\n",
       "      <td>0.820312</td>\n",
       "      <td>0.999206</td>\n",
       "      <td>ResNet50-7</td>\n",
       "    </tr>\n",
       "    <tr>\n",
       "      <th>6</th>\n",
       "      <td>0.0003</td>\n",
       "      <td>sigmoid</td>\n",
       "      <td>avg</td>\n",
       "      <td>0.812500</td>\n",
       "      <td>0.999206</td>\n",
       "      <td>ResNet50-8</td>\n",
       "    </tr>\n",
       "  </tbody>\n",
       "</table>\n",
       "</div>"
      ],
      "text/plain": [
       "   learning-rate activation pooling  last-val_accuracy  last-accuracy  \\\n",
       "1         0.0003       tanh     max           0.882812       0.997617   \n",
       "0         0.0003       tanh     avg           0.875000       0.998014   \n",
       "3         0.0003       relu     avg           0.875000       0.998411   \n",
       "2         0.0003       tanh    None           0.851562       0.997617   \n",
       "4         0.0003       relu     max           0.851562       0.998809   \n",
       "7         0.0003    sigmoid     max           0.851562       0.998014   \n",
       "5         0.0003       relu    None           0.820312       0.999206   \n",
       "6         0.0003    sigmoid     avg           0.812500       0.999206   \n",
       "\n",
       "   model_name  \n",
       "1  ResNet50-3  \n",
       "0  ResNet50-2  \n",
       "3  ResNet50-5  \n",
       "2  ResNet50-4  \n",
       "4  ResNet50-6  \n",
       "7  ResNet50-9  \n",
       "5  ResNet50-7  \n",
       "6  ResNet50-8  "
      ]
     },
     "execution_count": 13,
     "metadata": {},
     "output_type": "execute_result"
    }
   ],
   "source": [
    "df.sort_values('last-val_accuracy', ascending=False)[['learning-rate','activation', 'pooling', 'last-val_accuracy', 'last-accuracy', 'model_name']]"
   ]
  },
  {
   "cell_type": "code",
   "execution_count": 14,
   "metadata": {},
   "outputs": [],
   "source": [
    "df.to_csv('Results/deep-11.csv')"
   ]
  },
  {
   "cell_type": "code",
   "execution_count": 15,
   "metadata": {},
   "outputs": [],
   "source": [
    "# Okay let's save the best ResNet Model. Then Also let's save the best BasicCNN & DenseNet Model. Then let's also give a run of the mill model."
   ]
  },
  {
   "cell_type": "code",
   "execution_count": 21,
   "metadata": {},
   "outputs": [
    {
     "data": {
      "text/plain": [
       "Index(['loss', 'accuracy', 'val_loss', 'val_accuracy', 'last-accuracy',\n",
       "       'last-loss', 'last-val_loss', 'last-val_accuracy', 'arch', 'batch-size',\n",
       "       'image-size', 'learning-rate', 'seed', 'valid_split', 'dropout',\n",
       "       'dropout_rate', 'augments', 'short_epoch', 'full_epoch', 'custom_gen',\n",
       "       'model_name', 'garbor', 'laplacian', 'normalization', 'best_classes',\n",
       "       'features'],\n",
       "      dtype='object')"
      ]
     },
     "execution_count": 21,
     "metadata": {},
     "output_type": "execute_result"
    }
   ],
   "source": [
    "df.columns"
   ]
  },
  {
   "cell_type": "code",
   "execution_count": 28,
   "metadata": {},
   "outputs": [
    {
     "data": {
      "text/html": [
       "<div>\n",
       "<style scoped>\n",
       "    .dataframe tbody tr th:only-of-type {\n",
       "        vertical-align: middle;\n",
       "    }\n",
       "\n",
       "    .dataframe tbody tr th {\n",
       "        vertical-align: top;\n",
       "    }\n",
       "\n",
       "    .dataframe thead th {\n",
       "        text-align: right;\n",
       "    }\n",
       "</style>\n",
       "<table border=\"1\" class=\"dataframe\">\n",
       "  <thead>\n",
       "    <tr style=\"text-align: right;\">\n",
       "      <th></th>\n",
       "      <th>last-val_accuracy</th>\n",
       "      <th>last-accuracy</th>\n",
       "      <th>model_name</th>\n",
       "      <th>laplacian</th>\n",
       "      <th>image-size</th>\n",
       "    </tr>\n",
       "  </thead>\n",
       "  <tbody>\n",
       "    <tr>\n",
       "      <th>1</th>\n",
       "      <td>0.882812</td>\n",
       "      <td>0.997617</td>\n",
       "      <td>ResNet50-3</td>\n",
       "      <td>False</td>\n",
       "      <td>224</td>\n",
       "    </tr>\n",
       "  </tbody>\n",
       "</table>\n",
       "</div>"
      ],
      "text/plain": [
       "   last-val_accuracy  last-accuracy  model_name  laplacian  image-size\n",
       "1           0.882812       0.997617  ResNet50-3      False         224"
      ]
     },
     "execution_count": 28,
     "metadata": {},
     "output_type": "execute_result"
    }
   ],
   "source": [
    "import pickle\n",
    "with open(\"/home/ceg98/Documents/DaVinciVision/Model-Development/Results/super-deep-11.pkl\", \"rb\") as pickle_file:\n",
    "    histories = pickle.load(pickle_file)\n",
    "import pandas as pd\n",
    "df = pd.DataFrame(histories)\n",
    "df.sort_values('last-val_accuracy', ascending=False)[['last-val_accuracy', 'last-accuracy', 'model_name', 'laplacian', 'image-size']].iloc[[0]]"
   ]
  },
  {
   "cell_type": "code",
   "execution_count": 29,
   "metadata": {},
   "outputs": [
    {
     "data": {
      "text/plain": [
       "last-val_accuracy      0.664062\n",
       "last-accuracy          0.737887\n",
       "image-size           225.000000\n",
       "Name: 2, dtype: float64"
      ]
     },
     "execution_count": 29,
     "metadata": {},
     "output_type": "execute_result"
    }
   ],
   "source": [
    "import pickle\n",
    "with open(\"/home/ceg98/Documents/DaVinciVision/Model-Development/Results/base-11.pkl\", \"rb\") as pickle_file:\n",
    "    histories = pickle.load(pickle_file)\n",
    "import pandas as pd\n",
    "df = pd.DataFrame(histories)\n",
    "df.sort_values('last-val_accuracy', ascending=False)[['last-val_accuracy', 'last-accuracy', 'image-size']].iloc[0]"
   ]
  },
  {
   "cell_type": "code",
   "execution_count": 30,
   "metadata": {},
   "outputs": [
    {
     "data": {
      "text/html": [
       "<div>\n",
       "<style scoped>\n",
       "    .dataframe tbody tr th:only-of-type {\n",
       "        vertical-align: middle;\n",
       "    }\n",
       "\n",
       "    .dataframe tbody tr th {\n",
       "        vertical-align: top;\n",
       "    }\n",
       "\n",
       "    .dataframe thead th {\n",
       "        text-align: right;\n",
       "    }\n",
       "</style>\n",
       "<table border=\"1\" class=\"dataframe\">\n",
       "  <thead>\n",
       "    <tr style=\"text-align: right;\">\n",
       "      <th></th>\n",
       "      <th>last-val_accuracy</th>\n",
       "      <th>last-accuracy</th>\n",
       "      <th>model_name</th>\n",
       "      <th>laplacian</th>\n",
       "      <th>image-size</th>\n",
       "    </tr>\n",
       "  </thead>\n",
       "  <tbody>\n",
       "    <tr>\n",
       "      <th>25</th>\n",
       "      <td>0.707031</td>\n",
       "      <td>1.0</td>\n",
       "      <td>DenseNet-2</td>\n",
       "      <td>True</td>\n",
       "      <td>225</td>\n",
       "    </tr>\n",
       "    <tr>\n",
       "      <th>18</th>\n",
       "      <td>0.701823</td>\n",
       "      <td>1.0</td>\n",
       "      <td>BasicCNN3</td>\n",
       "      <td>True</td>\n",
       "      <td>225</td>\n",
       "    </tr>\n",
       "  </tbody>\n",
       "</table>\n",
       "</div>"
      ],
      "text/plain": [
       "    last-val_accuracy  last-accuracy  model_name laplacian  image-size\n",
       "25           0.707031            1.0  DenseNet-2      True         225\n",
       "18           0.701823            1.0   BasicCNN3      True         225"
      ]
     },
     "execution_count": 30,
     "metadata": {},
     "output_type": "execute_result"
    }
   ],
   "source": [
    "import pickle\n",
    "with open(\"/home/ceg98/Documents/DaVinciVision/Model-Development/Results/deep-11.pkl\", \"rb\") as pickle_file:\n",
    "    histories = pickle.load(pickle_file)\n",
    "import pandas as pd\n",
    "df = pd.DataFrame(histories)\n",
    "df.sort_values('last-val_accuracy', ascending=False)[['last-val_accuracy', 'last-accuracy', 'model_name', 'laplacian', 'image-size']].iloc[[4, 6]]"
   ]
  },
  {
   "attachments": {},
   "cell_type": "markdown",
   "metadata": {},
   "source": [
    "Models to Export\n",
    "1. ResNet50-3 (Super)\n",
    "2. DenseNet-2\n",
    "3. BasicCNN-3"
   ]
  },
  {
   "cell_type": "code",
   "execution_count": null,
   "metadata": {},
   "outputs": [],
   "source": []
  }
 ],
 "metadata": {
  "kernelspec": {
   "display_name": "ML",
   "language": "python",
   "name": "python3"
  },
  "language_info": {
   "codemirror_mode": {
    "name": "ipython",
    "version": 3
   },
   "file_extension": ".py",
   "mimetype": "text/x-python",
   "name": "python",
   "nbconvert_exporter": "python",
   "pygments_lexer": "ipython3",
   "version": "3.9.16"
  },
  "orig_nbformat": 4
 },
 "nbformat": 4,
 "nbformat_minor": 2
}
