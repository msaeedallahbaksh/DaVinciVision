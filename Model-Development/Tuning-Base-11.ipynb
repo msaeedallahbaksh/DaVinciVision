{
 "cells": [
  {
   "cell_type": "code",
   "execution_count": 1,
   "metadata": {},
   "outputs": [
    {
     "name": "stderr",
     "output_type": "stream",
     "text": [
      "2023-06-04 23:24:31.524177: I tensorflow/core/platform/cpu_feature_guard.cc:182] This TensorFlow binary is optimized to use available CPU instructions in performance-critical operations.\n",
      "To enable the following instructions: AVX2 FMA, in other operations, rebuild TensorFlow with the appropriate compiler flags.\n",
      "2023-06-04 23:24:32.006306: W tensorflow/compiler/tf2tensorrt/utils/py_utils.cc:38] TF-TRT Warning: Could not find TensorRT\n"
     ]
    }
   ],
   "source": [
    "import ModelTrainFilters as ModelTrain\n",
    "import pickle\n",
    "from time import sleep\n",
    "\n",
    "histories = list()\n",
    "\n",
    "import os\n",
    "os.environ['TF_CPP_MIN_LOG_LEVEL'] = '3'\n",
    "\n",
    "run_type = 'base-11'\n",
    "# File path for the pickle file\n",
    "file_path = \"/home/ceg98/Documents/DaVinciVision/Model-Development/Results/\" + run_type + \".pkl\"\n",
    "i = 0\n"
   ]
  },
  {
   "cell_type": "code",
   "execution_count": 2,
   "metadata": {},
   "outputs": [],
   "source": [
    "if not os.path.exists(file_path):\n",
    "    # Save the empty list to a pickle file\n",
    "    with open(file_path, \"wb\") as pickle_file:\n",
    "        pickle.dump([], pickle_file)"
   ]
  },
  {
   "attachments": {},
   "cell_type": "markdown",
   "metadata": {},
   "source": [
    "## Testing Architectures - Passed"
   ]
  },
  {
   "cell_type": "code",
   "execution_count": 3,
   "metadata": {},
   "outputs": [],
   "source": [
    "architectures = [\n",
    "                 'ResNet50', \n",
    "                 \"BasicCNN\", \n",
    "                 \"AlexNet\", \n",
    "                 \"VGG\", \n",
    "                #  \"DenseNet\", \n",
    "                #  \"GoogLeNet\"\n",
    "                ] # ResNet50 is Transfer learning"
   ]
  },
  {
   "cell_type": "code",
   "execution_count": null,
   "metadata": {},
   "outputs": [],
   "source": [
    "for arch in architectures:\n",
    "\n",
    "    tm = ModelTrain.TrainModel(architecture=arch, \n",
    "                               batch_size=32, \n",
    "                               image_size=225, \n",
    "                               validation_split=.2, \n",
    "                               learning_rate=0.0001, \n",
    "                               seed_n=1, \n",
    "                               verbose=1, \n",
    "                               best_classes=True, \n",
    "                               normalization=True,\n",
    "                               dropout=False,\n",
    "                               dropout_rate=0.1,\n",
    "                               garbor=False,\n",
    "                               laplacian=False,\n",
    "                               custom_gen=False,\n",
    "                               augments=True,\n",
    "                               short_epochs=10,\n",
    "                               full_epoch=50,\n",
    "                               full_cutoff=.0909,\n",
    "                               weights_dir=run_type,\n",
    "                               model_name = arch) # Initializing Class\n",
    "    \n",
    "\n",
    "\n",
    "\n",
    "    history = tm.train()\n",
    "\n",
    "    with open(file_path, \"rb\") as pickle_file:\n",
    "        histories = pickle.load(pickle_file)\n",
    "\n",
    "    histories.append(history)\n",
    "\n",
    "    # Save the list as a pickle file\n",
    "    with open(file_path, \"wb\") as pickle_file:\n",
    "        pickle.dump(histories, pickle_file)\n",
    "    \n",
    "    i += 1\n",
    "    if i == 5:\n",
    "        i = 0\n",
    "        sleep(3*60)"
   ]
  },
  {
   "cell_type": "code",
   "execution_count": 5,
   "metadata": {},
   "outputs": [],
   "source": [
    "import pandas as pd\n",
    "df = pd.DataFrame(histories)"
   ]
  },
  {
   "cell_type": "code",
   "execution_count": 8,
   "metadata": {},
   "outputs": [
    {
     "data": {
      "text/html": [
       "<div>\n",
       "<style scoped>\n",
       "    .dataframe tbody tr th:only-of-type {\n",
       "        vertical-align: middle;\n",
       "    }\n",
       "\n",
       "    .dataframe tbody tr th {\n",
       "        vertical-align: top;\n",
       "    }\n",
       "\n",
       "    .dataframe thead th {\n",
       "        text-align: right;\n",
       "    }\n",
       "</style>\n",
       "<table border=\"1\" class=\"dataframe\">\n",
       "  <thead>\n",
       "    <tr style=\"text-align: right;\">\n",
       "      <th></th>\n",
       "      <th>last-accuracy</th>\n",
       "      <th>arch</th>\n",
       "    </tr>\n",
       "  </thead>\n",
       "  <tbody>\n",
       "    <tr>\n",
       "      <th>2</th>\n",
       "      <td>0.737887</td>\n",
       "      <td>ResNet50</td>\n",
       "    </tr>\n",
       "    <tr>\n",
       "      <th>3</th>\n",
       "      <td>0.579825</td>\n",
       "      <td>BasicCNN</td>\n",
       "    </tr>\n",
       "    <tr>\n",
       "      <th>0</th>\n",
       "      <td>0.577840</td>\n",
       "      <td>DenseNet</td>\n",
       "    </tr>\n",
       "    <tr>\n",
       "      <th>1</th>\n",
       "      <td>0.517474</td>\n",
       "      <td>GoogLeNet</td>\n",
       "    </tr>\n",
       "    <tr>\n",
       "      <th>4</th>\n",
       "      <td>0.478554</td>\n",
       "      <td>AlexNet</td>\n",
       "    </tr>\n",
       "    <tr>\n",
       "      <th>5</th>\n",
       "      <td>0.079031</td>\n",
       "      <td>VGG</td>\n",
       "    </tr>\n",
       "  </tbody>\n",
       "</table>\n",
       "</div>"
      ],
      "text/plain": [
       "   last-accuracy       arch\n",
       "2       0.737887   ResNet50\n",
       "3       0.579825   BasicCNN\n",
       "0       0.577840   DenseNet\n",
       "1       0.517474  GoogLeNet\n",
       "4       0.478554    AlexNet\n",
       "5       0.079031        VGG"
      ]
     },
     "execution_count": 8,
     "metadata": {},
     "output_type": "execute_result"
    }
   ],
   "source": [
    "df.sort_values('last-accuracy', ascending=False)[['last-accuracy', 'arch']]"
   ]
  },
  {
   "cell_type": "code",
   "execution_count": 9,
   "metadata": {},
   "outputs": [
    {
     "data": {
      "text/html": [
       "<div>\n",
       "<style scoped>\n",
       "    .dataframe tbody tr th:only-of-type {\n",
       "        vertical-align: middle;\n",
       "    }\n",
       "\n",
       "    .dataframe tbody tr th {\n",
       "        vertical-align: top;\n",
       "    }\n",
       "\n",
       "    .dataframe thead th {\n",
       "        text-align: right;\n",
       "    }\n",
       "</style>\n",
       "<table border=\"1\" class=\"dataframe\">\n",
       "  <thead>\n",
       "    <tr style=\"text-align: right;\">\n",
       "      <th></th>\n",
       "      <th>last-accuracy</th>\n",
       "      <th>arch</th>\n",
       "    </tr>\n",
       "  </thead>\n",
       "  <tbody>\n",
       "    <tr>\n",
       "      <th>2</th>\n",
       "      <td>0.737887</td>\n",
       "      <td>ResNet50</td>\n",
       "    </tr>\n",
       "    <tr>\n",
       "      <th>3</th>\n",
       "      <td>0.579825</td>\n",
       "      <td>BasicCNN</td>\n",
       "    </tr>\n",
       "    <tr>\n",
       "      <th>0</th>\n",
       "      <td>0.577840</td>\n",
       "      <td>DenseNet</td>\n",
       "    </tr>\n",
       "  </tbody>\n",
       "</table>\n",
       "</div>"
      ],
      "text/plain": [
       "   last-accuracy      arch\n",
       "2       0.737887  ResNet50\n",
       "3       0.579825  BasicCNN\n",
       "0       0.577840  DenseNet"
      ]
     },
     "execution_count": 9,
     "metadata": {},
     "output_type": "execute_result"
    }
   ],
   "source": [
    "df.sort_values('last-accuracy', ascending=False)[['last-accuracy', 'arch']].head(3)"
   ]
  },
  {
   "cell_type": "code",
   "execution_count": null,
   "metadata": {},
   "outputs": [],
   "source": []
  }
 ],
 "metadata": {
  "kernelspec": {
   "display_name": "ML",
   "language": "python",
   "name": "python3"
  },
  "language_info": {
   "codemirror_mode": {
    "name": "ipython",
    "version": 3
   },
   "file_extension": ".py",
   "mimetype": "text/x-python",
   "name": "python",
   "nbconvert_exporter": "python",
   "pygments_lexer": "ipython3",
   "version": "3.10.10"
  },
  "orig_nbformat": 4
 },
 "nbformat": 4,
 "nbformat_minor": 2
}
